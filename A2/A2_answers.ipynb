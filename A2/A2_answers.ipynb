{
 "cells": [
  {
   "cell_type": "markdown",
   "id": "67a5f87b",
   "metadata": {},
   "source": [
    "## Assignment A2: Use case\n",
    "### A2a: About your group\n",
    "Nikolas: 2\n",
    "Freya: 3\n",
    "Total Score: 5\n",
    "\n",
    "What is your group's focus area?\n",
    "- BUILD\n",
    "Is you focus area keeping the manager role? Are you an analyst or a manager?\n",
    "- Analysts\n",
    "\n"
   ]
  },
  {
   "cell_type": "markdown",
   "id": "01bb3634",
   "metadata": {},
   "source": [
    "### A2b: Identify Claim\n",
    "#2508\n",
    "\n",
    "Claim:\n",
    "- Check client geometric requirements against the model\n",
    "\n",
    "Justification:\n",
    "- Quality ensurance: Make sure the client gets what they are asking for\n",
    "\n"
   ]
  },
  {
   "cell_type": "markdown",
   "id": "7a8123ff",
   "metadata": {},
   "source": [
    "### A2c: Use Case\n",
    "* **How** you would check this claim?\n",
    "    - Create some criteria groups (e.g. room requirements, f2f), and then make codes to check these in the model\n",
    "* When would this claim need to be checked?\n",
    "    - During the design and modeling phases, should be used continually through the process\n",
    "* What information does this claim rely on?\n",
    "    - Client requirements\n",
    "    - Model needs to contain the information we are cheking for\n",
    "* What **phase**? planning, design, build or operation.\n",
    "    - Design\n",
    "* What BIM **purpose** is required? Gather, generate, analyse, communicate or realise?\n",
    "    - Gather: (quantify)\n",
    "    - Analyse: Validate (Coordinate)\n",
    "    - Communicate: Document (Visualize)\n",
    "* Review [use case] examples - do any of these help?, What BIM use case is this closest to? If you cannot find one from the examples, you can make a new one.\n",
    "    - 06: Design Authoring\n",
    "    - 07: Design review"
   ]
  },
  {
   "cell_type": "markdown",
   "id": "91e84bc7",
   "metadata": {},
   "source": [
    "### A2d: Scope the use case\n",
    "- \n",
    "\n",
    "\n",
    "\n"
   ]
  },
  {
   "cell_type": "markdown",
   "id": "38d2fca4",
   "metadata": {},
   "source": [
    "### A2e: Tool Idea\n",
    "* Describe in words your idea for your own OpenBIM ifcOpenShell Tool in Python.\n",
    "* What is the [business and societal value] of your tool?\n",
    "* Produce a [BPMN] diagram to summarise your idea. Save this in a folder in your repository along with an SVG of the disagram and embed the SVG in the [Markdown] as an image."
   ]
  },
  {
   "cell_type": "markdown",
   "id": "7a103505",
   "metadata": {},
   "source": [
    "### A2f: Information Requirements\n",
    "* Identify what information you need to extract from the model\n",
    "     * Where is this in IFC?\n",
    "     * Is it in the model?\n",
    "     * Do you know how to get it in ifcOpenShell?\n",
    "     * What will you need to learn to do this? **[Enrolled students only]:** [add to this excel in teams](https://dtudk.sharepoint.com/:x:/r/sites/course215344/Delte%20dokumenter/General/Learning%20Bank.xlsx?d=w1436615b07ec4312af23ece1231635a2&csf=1&web=1&e=ZBDAPj)\n",
    " "
   ]
  },
  {
   "cell_type": "markdown",
   "id": "a017887c",
   "metadata": {},
   "source": [
    "### A2g: Identify appropriate software licence\n",
    "* What [software licence] will you choose for your project?"
   ]
  }
 ],
 "metadata": {
  "language_info": {
   "name": "python"
  }
 },
 "nbformat": 4,
 "nbformat_minor": 5
}
