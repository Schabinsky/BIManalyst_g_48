{
 "cells": [
  {
   "cell_type": "markdown",
   "id": "67a5f87b",
   "metadata": {},
   "source": [
    "## Assignment A2: Use case\n",
    "### A2a: About your group\n",
    "Nikolas claims 2 as score, and Freya claims 3 as score giving us a total score of 5.\n",
    "\n",
    "Our focus area is BUILD, and we are analysts. Our focus area are keeping the  manager role."
   ]
  },
  {
   "cell_type": "markdown",
   "id": "01bb3634",
   "metadata": {},
   "source": [
    "### A2b: Identify Claim\n",
    "We are working with building #2508.\n",
    "\n",
    "Claim:\n",
    "- Check the clients room requirements against the IFC model.\n",
    "\n",
    "Justification:\n",
    "- Quality ensurance: Make sure the client's requirments are satisfied."
   ]
  },
  {
   "cell_type": "markdown",
   "id": "7a8123ff",
   "metadata": {},
   "source": [
    "### A2c: Use Case\n",
    "\n",
    "* **How** you would check this claim?\n",
    "    - Go through the IFC model with a code, make lists with different room types and then sum it up in a report.\n",
    "* When would this claim need to be checked?\n",
    "    - During the design and modeling phases, should be used continually through the process to ensure continuous compliance with client requirements.\n",
    "* What information does this claim rely on?\n",
    "    - Client requirements\n",
    "    - Model needs to contain the proper information.\n",
    "        - All rooms are assigned a space\n",
    "        - All spaces are named correctly\n",
    "        - All spaces are assigned NetFloorArea\n",
    "* What **phase**? planning, design, build or operation.\n",
    "    - Design\n",
    "* What BIM **purpose** is required? Gather, generate, analyse, communicate or realise?\n",
    "    - Gather: (Quantify)\n",
    "    - Analyse: Validate (Coordinate)\n",
    "    - Communicate: Document (Visualize)\n",
    "* Review [use case] examples - do any of these help?, What BIM use case is this closest to? If you cannot find one from the examples, you can make a new one.\n",
    "    - 06: Design Authoring\n",
    "    - 07: Design review\n",
    "\n",
    "LINK TIL SVG!!!"
   ]
  },
  {
   "cell_type": "markdown",
   "id": "91e84bc7",
   "metadata": {},
   "source": [
    "### A2d: Scope the use case\n",
    "LINK TIL SVG!!!"
   ]
  },
  {
   "cell_type": "markdown",
   "id": "38d2fca4",
   "metadata": {},
   "source": [
    "### A2e: Tool Idea\n",
    "Our idea is to make a tool for automating space requirement checks to be used by either the designing part, the client to ensure requirements are met or by others, to quickly compare a model against set space requirements.\n",
    "\n",
    "The value in this idea lies in the removal of tedium, saving both energy and time by shortening the amount of energy needed to ensure all rooms are accounted for in a model. \n",
    "\n",
    "LINK til SVG!!!"
   ]
  },
  {
   "cell_type": "markdown",
   "id": "7a103505",
   "metadata": {},
   "source": [
    "### A2f: Information Requirements\n",
    "Needed information and where to find it:\n",
    "- Spaces - assigned to a floor, can be pulled from model with .by_type(\"IfcSpace\").\n",
    "- Room name - Found under 'Object Information', we will be needing the .LongName to extract the room name.\n",
    "- Area of room - Found under Quantity Sets in Qto_SpaceBaseQuantities as NetFloorArea."
   ]
  },
  {
   "cell_type": "markdown",
   "id": "a017887c",
   "metadata": {},
   "source": [
    "### A2g: Identify appropriate software licence\n",
    "MIT License allows for the software to be used freely, only conditions are license and copyright notice. Further we do not leave ourselves open to liability or warranty."
   ]
  }
 ],
 "metadata": {
  "language_info": {
   "name": "python"
  }
 },
 "nbformat": 4,
 "nbformat_minor": 5
}
